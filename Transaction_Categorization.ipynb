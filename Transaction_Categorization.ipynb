{
 "cells": [
  {
   "cell_type": "markdown",
   "id": "476c69fa",
   "metadata": {},
   "source": [
    "# Campus Analytics Challenge 2022\n",
    "## Author: Eric Wilson\n",
    "## Date Created: 30 June 2022"
   ]
  },
  {
   "cell_type": "code",
   "execution_count": 1,
   "id": "bd02fc5c",
   "metadata": {},
   "outputs": [],
   "source": [
    "import numpy as np\n",
    "import pandas as pd\n",
    "import matplotlib.pyplot as plt"
   ]
  },
  {
   "cell_type": "code",
   "execution_count": 2,
   "id": "09dc09ef",
   "metadata": {},
   "outputs": [
    {
     "name": "stdout",
     "output_type": "stream",
     "text": [
      "<bound method NDFrame.head of       sor                cdf_seq_no  \\\n",
      "0      HH        T20110701260061756   \n",
      "1      HH       T201302289909010349   \n",
      "2      HH  T20130726991361190114550   \n",
      "3      BK       T201207095780929968   \n",
      "4      HH  T20131230990558080004939   \n",
      "...    ..                       ...   \n",
      "39995  HH  T20130726991321130015959   \n",
      "39996  HH       T201208319925685298   \n",
      "39997  HH        T20111004560028307   \n",
      "39998  HH        T20110601320040304   \n",
      "39999  HH       T201208319925581644   \n",
      "\n",
      "                                              trans_desc  merchant_cat_code  \\\n",
      "0      RECUR DEBIT CRD PMT11/11 DELTA DENTAL OF A11 O...             6300.0   \n",
      "1      CHECK CRD PURCHASE 11/11 SURETY SOLUTIONS,    ...                NaN   \n",
      "2      CHECK CRD PURCHASE 11/11 THE COPY STOP        ...                NaN   \n",
      "3               MARKET ALERT INC         111-111-1111 TX             7375.0   \n",
      "4      CHECK CRD PURCHASE 11/11 PERT- NER PERFECT    ...                NaN   \n",
      "...                                                  ...                ...   \n",
      "39995  CHECK CRD PURCHASE 11/11 ALLIED FIDELITY SE   ...                NaN   \n",
      "39996  CHECK CRD PURCHASE 11/11 FOREMOST INSURANCE   ...                NaN   \n",
      "39997  CHECK CRD PURCHASE 11/11 PROPAY USA- ProPay, I...             7399.0   \n",
      "39998  CHECK CRD PURCHASE 11/11 COWBOY FINANCE LLC   ...             6051.0   \n",
      "39999  CHECK CRD PURCHASE 11/11 JONJON DELI GROCER   ...                NaN   \n",
      "\n",
      "          amt db_cr_cd payment_reporting_category payment_category  \\\n",
      "0       58.34        D                       Card       Debit Card   \n",
      "1      103.00        D                       Card       Check Card   \n",
      "2       22.44        D                       Card       Check Card   \n",
      "3       22.44      NaN                       Card      Credit Card   \n",
      "4       66.25        D                       Card       Check Card   \n",
      "...       ...      ...                        ...              ...   \n",
      "39995  100.00        D                       Card       Check Card   \n",
      "39996  184.78        D                       Card       Check Card   \n",
      "39997    9.95        D                       Card       Check Card   \n",
      "39998  250.00        D                       Card       Check Card   \n",
      "39999   14.49        D                       Card       Check Card   \n",
      "\n",
      "       is_international           default_brand  default_location  \\\n",
      "0                 False  DELTA DENTAL OF A11 OF    111-1111111 AR   \n",
      "1                 False       SURETY SOLUTIONS,   111-111-1111 OR   \n",
      "2                 False           THE COPY STOP  SALT LAKE CIT UT   \n",
      "3                 False        MARKET ALERT INC   111-111-1111 TX   \n",
      "4                 False       PERT- NER PERFECT  THE WOODLANDS TX   \n",
      "...                 ...                     ...               ...   \n",
      "39995             False      ALLIED FIDELITY SE   111-111-1111 KS   \n",
      "39996             False      FOREMOST INSURANCE    111-1111111 MI   \n",
      "39997             False  PROPAY USA- ProPay, In    111-1111111 UT   \n",
      "39998             False      COWBOY FINANCE LLC    111-1111111 NM   \n",
      "39999             False      JONJON DELI GROCER          BRONX NY   \n",
      "\n",
      "                      qrated_brand              coalesced_brand Category  \n",
      "0                     Delta Dental                 Delta Dental  Finance  \n",
      "1                 Surety Solutions             Surety Solutions  Finance  \n",
      "2                    The Copy Stop                The Copy Stop  Finance  \n",
      "3                     Market Alert                 Market Alert  Finance  \n",
      "4      Hometown Insurance Partners  Hometown Insurance Partners  Finance  \n",
      "...                            ...                          ...      ...  \n",
      "39995         Fidelity Investments         Fidelity Investments  Finance  \n",
      "39996           Foremost Insurance           Foremost Insurance  Finance  \n",
      "39997                       Propay                       Propay  Finance  \n",
      "39998               Cowboy Finance               Cowboy Finance  Finance  \n",
      "39999                  Deli Grocer                  Deli Grocer  Finance  \n",
      "\n",
      "[40000 rows x 14 columns]>\n"
     ]
    }
   ],
   "source": [
    "# Load Training Data\n",
    "training = pd.read_excel('dbb4c4ff1f31-CAC+2022_Training+Data+Set+New.xlsx')\n",
    "print(training.head)"
   ]
  },
  {
   "cell_type": "markdown",
   "id": "283be666",
   "metadata": {},
   "source": [
    "## Data Exploration"
   ]
  },
  {
   "cell_type": "code",
   "execution_count": 3,
   "id": "a071325a",
   "metadata": {},
   "outputs": [
    {
     "name": "stdout",
     "output_type": "stream",
     "text": [
      "sor                            object\n",
      "cdf_seq_no                     object\n",
      "trans_desc                     object\n",
      "merchant_cat_code             float64\n",
      "amt                           float64\n",
      "db_cr_cd                       object\n",
      "payment_reporting_category     object\n",
      "payment_category               object\n",
      "is_international                 bool\n",
      "default_brand                  object\n",
      "default_location               object\n",
      "qrated_brand                   object\n",
      "coalesced_brand                object\n",
      "Category                       object\n",
      "dtype: object\n"
     ]
    }
   ],
   "source": [
    "print(training.dtypes)"
   ]
  },
  {
   "cell_type": "code",
   "execution_count": 4,
   "id": "d2ad5aac",
   "metadata": {},
   "outputs": [
    {
     "name": "stdout",
     "output_type": "stream",
     "text": [
      "HH    39688\n",
      "BK      312\n",
      "Name: sor, dtype: int64\n",
      "D    37962\n",
      "C     1726\n",
      "Name: db_cr_cd, dtype: int64\n",
      "Card    40000\n",
      "Name: payment_reporting_category, dtype: int64\n",
      "False    38855\n",
      "True      1145\n",
      "Name: is_international, dtype: int64\n",
      "Retail Trade                                 13500\n",
      "Entertainment                                11255\n",
      "Trade, Professional and Personal Services     5275\n",
      "Health and Community Services                 4157\n",
      "Services to Transport                         2317\n",
      "Travel                                        1489\n",
      "Property and Business Services                1095\n",
      "Education                                      445\n",
      "Communication Services                         282\n",
      "Finance                                        185\n",
      "Name: Category, dtype: int64\n"
     ]
    }
   ],
   "source": [
    "for k in ('sor', 'db_cr_cd', 'payment_reporting_category', 'is_international', 'Category'):\n",
    "    print(training[k].value_counts())"
   ]
  },
  {
   "cell_type": "markdown",
   "id": "80ba7cec",
   "metadata": {},
   "source": [
    "All classes, including the target feature, are imbalanced. Care must be taken for high precision in for 'Retail Trade', and high sensitivity for 'Finance' and 'Communication Services'."
   ]
  },
  {
   "cell_type": "code",
   "execution_count": 5,
   "id": "2aa23c3a",
   "metadata": {},
   "outputs": [
    {
     "name": "stdout",
     "output_type": "stream",
     "text": [
      "sor                               0\n",
      "cdf_seq_no                        0\n",
      "trans_desc                        0\n",
      "merchant_cat_code             15309\n",
      "amt                               0\n",
      "db_cr_cd                        312\n",
      "payment_reporting_category        0\n",
      "payment_category                  0\n",
      "is_international                  0\n",
      "default_brand                     0\n",
      "default_location                  6\n",
      "qrated_brand                   3327\n",
      "coalesced_brand                   0\n",
      "Category                          0\n",
      "dtype: int64\n"
     ]
    }
   ],
   "source": [
    "# Check Missing Values\n",
    "print(training.isnull().sum())"
   ]
  },
  {
   "cell_type": "code",
   "execution_count": 6,
   "id": "64b38d36",
   "metadata": {},
   "outputs": [
    {
     "data": {
      "text/plain": [
       "count    40000.000000\n",
       "mean        75.870519\n",
       "std        254.587351\n",
       "min          0.010000\n",
       "25%         14.007500\n",
       "50%         29.990000\n",
       "75%         63.650000\n",
       "max      23313.800000\n",
       "Name: amt, dtype: float64"
      ]
     },
     "execution_count": 6,
     "metadata": {},
     "output_type": "execute_result"
    },
    {
     "data": {
      "image/png": "[encoded data removed]",
      "text/plain": [
       "<Figure size 432x288 with 1 Axes>"
      ]
     },
     "metadata": {
      "needs_background": "light"
     },
     "output_type": "display_data"
    }
   ],
   "source": [
    "plt.hist(training['amt'])\n",
    "training['amt'].describe() # amt has a heavy right skew"
   ]
  },
  {
   "cell_type": "markdown",
   "id": "1bbd9a69",
   "metadata": {},
   "source": [
    "## Data Preparation"
   ]
  },
  {
   "cell_type": "code",
   "execution_count": 7,
   "id": "fd8ef723",
   "metadata": {},
   "outputs": [],
   "source": [
    "# Convert Categorical Variables\n",
    "for k in ('sor', 'db_cr_cd', 'is_international', 'Category'):\n",
    "    training[k] = training[k].astype('category')"
   ]
  },
  {
   "cell_type": "code",
   "execution_count": 8,
   "id": "f3f04d42",
   "metadata": {},
   "outputs": [],
   "source": [
    "del training['payment_reporting_category'] # single value categorical variable\n",
    "del training['default_brand'] # Redundant\n",
    "del training['qrated_brand'] # Redundant"
   ]
  },
  {
   "cell_type": "markdown",
   "id": "d7d77383",
   "metadata": {},
   "source": [
    "## Natural Language Processing with Linear SVM"
   ]
  },
  {
   "cell_type": "code",
   "execution_count": 9,
   "id": "e4e1d7c3",
   "metadata": {},
   "outputs": [],
   "source": [
    "training['coalesced_brand'] = training['coalesced_brand'].astype('string') # Some names were not read as strings"
   ]
  },
  {
   "cell_type": "code",
   "execution_count": 10,
   "id": "c70de7aa",
   "metadata": {},
   "outputs": [],
   "source": [
    "# Create Document-Term Matrix\n",
    "from sklearn.feature_extraction.text import TfidfVectorizer\n",
    "tfidf_vect = TfidfVectorizer()\n",
    "brand_train_counts = tfidf_vect.fit_transform(training['coalesced_brand'])"
   ]
  },
  {
   "cell_type": "code",
   "execution_count": 11,
   "id": "467f044a",
   "metadata": {},
   "outputs": [
    {
     "data": {
      "text/plain": [
       "(40000, 25931)"
      ]
     },
     "execution_count": 11,
     "metadata": {},
     "output_type": "execute_result"
    }
   ],
   "source": [
    "brand_train_counts.shape"
   ]
  },
  {
   "cell_type": "code",
   "execution_count": 12,
   "id": "51ac766a",
   "metadata": {},
   "outputs": [],
   "source": [
    "from scipy import sparse\n",
    "brand_sparse = pd.DataFrame.sparse.from_spmatrix(brand_train_counts, columns=tfidf_vect.get_feature_names_out())"
   ]
  },
  {
   "cell_type": "code",
   "execution_count": 13,
   "id": "4f71a14a",
   "metadata": {},
   "outputs": [],
   "source": [
    "from sklearn.model_selection import train_test_split\n",
    "brand_train, brand_validation, category_train, category_validation = train_test_split(\n",
    "    training['coalesced_brand'], training['Category'], test_size=.2, random_state = 42)"
   ]
  },
  {
   "cell_type": "code",
   "execution_count": 14,
   "id": "f1d8d0d5",
   "metadata": {},
   "outputs": [
    {
     "data": {
      "text/plain": [
       "0.714375"
      ]
     },
     "execution_count": 14,
     "metadata": {},
     "output_type": "execute_result"
    }
   ],
   "source": [
    "from sklearn.feature_extraction.text import TfidfTransformer\n",
    "from sklearn.feature_extraction.text import CountVectorizer\n",
    "from sklearn.pipeline import Pipeline\n",
    "from sklearn.linear_model import SGDClassifier\n",
    "text_clf = Pipeline([\n",
    "    ('vect', CountVectorizer()),\n",
    "    ('tfidf', TfidfTransformer()),\n",
    "    ('clf', SGDClassifier(loss='hinge', penalty='l2',\n",
    "                          alpha=1e-3, random_state=42,\n",
    "                          max_iter=5, tol=None)),])\n",
    "\n",
    "text_clf.fit(brand_train, category_train) \n",
    "predicted = text_clf.predict(brand_validation)\n",
    "np.mean(predicted == category_validation)"
   ]
  },
  {
   "cell_type": "markdown",
   "id": "91293b29",
   "metadata": {},
   "source": [
    "An SVM using only company names results in 71.4% accuracy"
   ]
  },
  {
   "cell_type": "code",
   "execution_count": 15,
   "id": "08276d73",
   "metadata": {},
   "outputs": [
    {
     "name": "stdout",
     "output_type": "stream",
     "text": [
      "                                           precision    recall  f1-score   support\n",
      "\n",
      "                   Communication Services       0.69      0.29      0.40        63\n",
      "                                Education       0.74      0.24      0.37        95\n",
      "                            Entertainment       0.85      0.73      0.78      2295\n",
      "                                  Finance       0.60      0.26      0.36        35\n",
      "            Health and Community Services       0.85      0.79      0.82       850\n",
      "           Property and Business Services       0.86      0.25      0.38       222\n",
      "                             Retail Trade       0.59      0.88      0.70      2619\n",
      "                    Services to Transport       0.78      0.62      0.69       463\n",
      "Trade, Professional and Personal Services       0.85      0.50      0.63      1057\n",
      "                                   Travel       0.81      0.50      0.61       301\n",
      "\n",
      "                                 accuracy                           0.71      8000\n",
      "                                macro avg       0.76      0.51      0.58      8000\n",
      "                             weighted avg       0.75      0.71      0.71      8000\n",
      "\n"
     ]
    }
   ],
   "source": [
    "from sklearn import metrics\n",
    "print(metrics.classification_report(\n",
    "    category_validation, \n",
    "    predicted, \n",
    "    target_names=category_validation.cat.categories))"
   ]
  },
  {
   "cell_type": "markdown",
   "id": "198f802e",
   "metadata": {},
   "source": [
    "Precision averages to ~75% overall. Recall is low for 'Education', 'Finance', and 'Property and Business Services'."
   ]
  },
  {
   "cell_type": "markdown",
   "id": "782ad1e6",
   "metadata": {},
   "source": [
    "## Linear SVM with Additional Features"
   ]
  },
  {
   "cell_type": "code",
   "execution_count": 16,
   "id": "e2599fe5",
   "metadata": {},
   "outputs": [],
   "source": [
    "from sklearn import preprocessing\n",
    "enc = preprocessing.OneHotEncoder(handle_unknown='ignore')\n",
    "cat_list = ['sor', 'db_cr_cd', 'is_international']\n",
    "enc.fit(training[cat_list])\n",
    "sparse_cats = enc.transform(training[cat_list])\n",
    "cats_df = pd.DataFrame.sparse.from_spmatrix(sparse_cats, columns = enc.get_feature_names_out())"
   ]
  },
  {
   "cell_type": "code",
   "execution_count": 17,
   "id": "714999d6",
   "metadata": {
    "scrolled": false
   },
   "outputs": [
    {
     "data": {
      "text/plain": [
       "0.690625"
      ]
     },
     "execution_count": 17,
     "metadata": {},
     "output_type": "execute_result"
    }
   ],
   "source": [
    "training_svm_f = pd.concat([cats_df, brand_sparse], axis = 1)\n",
    "bank_train_f, bank_validation_f, cat_train_f, cat_validation_f = train_test_split(\n",
    "    training_svm_f, \n",
    "    training['Category'], \n",
    "    test_size=.2, \n",
    "    random_state = 42)\n",
    "svm_clf_f = SGDClassifier(loss='hinge', penalty='l2',\n",
    "                          alpha=1e-3, random_state=42,\n",
    "                          max_iter=5, tol=None)\n",
    "svm_clf_f.fit(bank_train_f, cat_train_f)\n",
    "svm_predicted_f = svm_clf_f.predict(bank_validation_f)\n",
    "np.mean(svm_predicted_f == cat_validation_f)"
   ]
  },
  {
   "cell_type": "code",
   "execution_count": 18,
   "id": "4523aee5",
   "metadata": {},
   "outputs": [
    {
     "name": "stdout",
     "output_type": "stream",
     "text": [
      "                                           precision    recall  f1-score   support\n",
      "\n",
      "                   Communication Services       0.88      0.24      0.37        63\n",
      "                                Education       0.71      0.13      0.21        95\n",
      "                            Entertainment       0.87      0.68      0.76      2295\n",
      "                                  Finance       0.70      0.20      0.31        35\n",
      "            Health and Community Services       0.88      0.75      0.81       850\n",
      "           Property and Business Services       0.91      0.18      0.31       222\n",
      "                             Retail Trade       0.54      0.90      0.68      2619\n",
      "                    Services to Transport       0.80      0.58      0.67       463\n",
      "Trade, Professional and Personal Services       0.88      0.46      0.60      1057\n",
      "                                   Travel       0.83      0.47      0.60       301\n",
      "\n",
      "                                 accuracy                           0.69      8000\n",
      "                                macro avg       0.80      0.46      0.53      8000\n",
      "                             weighted avg       0.76      0.69      0.68      8000\n",
      "\n"
     ]
    }
   ],
   "source": [
    "print(metrics.classification_report(\n",
    "    cat_validation_f, \n",
    "    svm_predicted_f, \n",
    "    target_names=cat_validation_f.cat.categories))"
   ]
  },
  {
   "cell_type": "markdown",
   "id": "f9bcd6c8",
   "metadata": {},
   "source": [
    "This model is less accurate overall with 69% compared to 71%, but has a higher precision of 76% compared to 75%. Recall is worse across the board."
   ]
  },
  {
   "cell_type": "markdown",
   "id": "fe3d36ba",
   "metadata": {},
   "source": [
    "## Linear SVM with Merchant Category Code"
   ]
  },
  {
   "cell_type": "markdown",
   "id": "9b16e1ac",
   "metadata": {},
   "source": [
    "In this next model, category codes are treated as categorical variables."
   ]
  },
  {
   "cell_type": "code",
   "execution_count": 19,
   "id": "47c5b344",
   "metadata": {
    "scrolled": false
   },
   "outputs": [
    {
     "data": {
      "text/plain": [
       "0.774"
      ]
     },
     "execution_count": 19,
     "metadata": {},
     "output_type": "execute_result"
    }
   ],
   "source": [
    "merch_cat_codes = training['merchant_cat_code'].astype('category')\n",
    "enc_mc = preprocessing.OneHotEncoder(handle_unknown='ignore')\n",
    "enc_mc.fit(merch_cat_codes.array.reshape(-1,1))\n",
    "merch_cat_codes = pd.DataFrame.sparse.from_spmatrix(\n",
    "    enc_mc.transform(\n",
    "        merch_cat_codes.array.reshape(-1,1)), \n",
    "    columns = enc_mc.get_feature_names_out())\n",
    "training_svm_mc = pd.concat([merch_cat_codes, brand_sparse], axis = 1)\n",
    "bank_train_mc, bank_validation_mc, cat_train_mc, cat_validation_mc = train_test_split(\n",
    "    training_svm_mc, \n",
    "    training['Category'], \n",
    "    test_size=.2, \n",
    "    random_state = 42)\n",
    "svm_clf_mc = SGDClassifier(loss='hinge', penalty='l2',\n",
    "                          alpha=1e-3, random_state=42,\n",
    "                          max_iter=5, tol=None)\n",
    "svm_clf_mc.fit(bank_train_mc, cat_train_mc)\n",
    "svm_predicted_mc = svm_clf_mc.predict(bank_validation_mc)\n",
    "np.mean(svm_predicted_mc == cat_validation_mc)"
   ]
  },
  {
   "cell_type": "markdown",
   "id": "a0767eb8",
   "metadata": {},
   "source": [
    "This is the most accurate so far, at 77.4%."
   ]
  },
  {
   "cell_type": "code",
   "execution_count": 20,
   "id": "878cdc31",
   "metadata": {},
   "outputs": [
    {
     "name": "stdout",
     "output_type": "stream",
     "text": [
      "                                           precision    recall  f1-score   support\n",
      "\n",
      "                   Communication Services       0.79      0.65      0.71        63\n",
      "                                Education       0.68      0.59      0.63        95\n",
      "                            Entertainment       0.86      0.81      0.83      2295\n",
      "                                  Finance       0.88      0.20      0.33        35\n",
      "            Health and Community Services       0.91      0.85      0.88       850\n",
      "           Property and Business Services       0.68      0.57      0.62       222\n",
      "                             Retail Trade       0.67      0.86      0.75      2619\n",
      "                    Services to Transport       0.73      0.77      0.75       463\n",
      "Trade, Professional and Personal Services       0.89      0.61      0.73      1057\n",
      "                                   Travel       0.81      0.47      0.59       301\n",
      "\n",
      "                                 accuracy                           0.77      8000\n",
      "                                macro avg       0.79      0.64      0.68      8000\n",
      "                             weighted avg       0.79      0.77      0.77      8000\n",
      "\n"
     ]
    }
   ],
   "source": [
    "print(metrics.classification_report(\n",
    "    cat_validation_mc, \n",
    "    svm_predicted_mc, \n",
    "    target_names=cat_validation_mc.cat.categories))"
   ]
  },
  {
   "cell_type": "markdown",
   "id": "1f99f5c1",
   "metadata": {},
   "source": [
    "Precision is also higher, at an average of 79%. 'Finance', however, retains lower sensitivity at .20."
   ]
  },
  {
   "cell_type": "markdown",
   "id": "44159bf2",
   "metadata": {},
   "source": [
    "## Linear SVM, Combined Model"
   ]
  },
  {
   "cell_type": "code",
   "execution_count": 21,
   "id": "508c621a",
   "metadata": {
    "scrolled": false
   },
   "outputs": [
    {
     "data": {
      "text/plain": [
       "0.75825"
      ]
     },
     "execution_count": 21,
     "metadata": {},
     "output_type": "execute_result"
    }
   ],
   "source": [
    "training_svm_c = pd.concat([merch_cat_codes, cats_df, brand_sparse], axis = 1)\n",
    "bank_train_c, bank_validation_c, cat_train_c, cat_validation_c = train_test_split(\n",
    "    training_svm_c, \n",
    "    training['Category'], \n",
    "    test_size=.2, \n",
    "    random_state = 42)\n",
    "svm_clf_c = SGDClassifier(loss='hinge', penalty='l2',\n",
    "                          alpha=1e-3, random_state=42,\n",
    "                          max_iter=5, tol=None)\n",
    "svm_clf_c.fit(bank_train_c, cat_train_c)\n",
    "svm_predicted_c = svm_clf_c.predict(bank_validation_c)\n",
    "np.mean(svm_predicted_c == cat_validation_c)"
   ]
  },
  {
   "cell_type": "markdown",
   "id": "bce1e1bd",
   "metadata": {},
   "source": [
    "The combined model is less accurate than that with only the merchant names and codes at 75.8%."
   ]
  },
  {
   "cell_type": "code",
   "execution_count": 22,
   "id": "8284cba5",
   "metadata": {},
   "outputs": [
    {
     "name": "stdout",
     "output_type": "stream",
     "text": [
      "                                           precision    recall  f1-score   support\n",
      "\n",
      "                   Communication Services       0.83      0.62      0.71        63\n",
      "                                Education       0.67      0.43      0.53        95\n",
      "                            Entertainment       0.87      0.77      0.82      2295\n",
      "                                  Finance       0.80      0.11      0.20        35\n",
      "            Health and Community Services       0.91      0.84      0.87       850\n",
      "           Property and Business Services       0.67      0.56      0.61       222\n",
      "                             Retail Trade       0.64      0.87      0.74      2619\n",
      "                    Services to Transport       0.74      0.73      0.73       463\n",
      "Trade, Professional and Personal Services       0.89      0.59      0.71      1057\n",
      "                                   Travel       0.82      0.46      0.58       301\n",
      "\n",
      "                                 accuracy                           0.76      8000\n",
      "                                macro avg       0.78      0.60      0.65      8000\n",
      "                             weighted avg       0.78      0.76      0.76      8000\n",
      "\n"
     ]
    }
   ],
   "source": [
    "print(metrics.classification_report(\n",
    "    cat_validation_c, \n",
    "    svm_predicted_c, \n",
    "    target_names=cat_validation_c.cat.categories))"
   ]
  },
  {
   "cell_type": "markdown",
   "id": "2f18f582",
   "metadata": {},
   "source": [
    "Overall precision is also lower, albeit slightly at 78%."
   ]
  },
  {
   "cell_type": "markdown",
   "id": "a75bc3c3",
   "metadata": {},
   "source": [
    "## k-Nearest Neighbor Classification with Best Features from SVM"
   ]
  },
  {
   "cell_type": "markdown",
   "id": "39efdf48",
   "metadata": {},
   "source": [
    "Stacking will be attempted with kNN for increased accuracy beyond 79%, and higher precisin than 79%. First, we determine the optimal k value for kNN classification."
   ]
  },
  {
   "cell_type": "code",
   "execution_count": 23,
   "id": "10e1bad1",
   "metadata": {},
   "outputs": [
    {
     "data": {
      "text/plain": [
       "GridSearchCV(estimator=KNeighborsClassifier(algorithm='brute'),\n",
       "             param_grid=[{'n_neighbors': [5, 10, 100, 200]}],\n",
       "             scoring='accuracy')"
      ]
     },
     "execution_count": 23,
     "metadata": {},
     "output_type": "execute_result"
    }
   ],
   "source": [
    "from sklearn.neighbors import KNeighborsClassifier\n",
    "from sklearn.model_selection import GridSearchCV\n",
    "k_param_grid = [{'n_neighbors' : [5, 10, 100, 200]}] # sqrt(N) = 200\n",
    "kNN = KNeighborsClassifier(algorithm='brute')\n",
    "k_search = GridSearchCV(estimator = kNN, param_grid = k_param_grid, scoring = 'accuracy')\n",
    "k_search.fit(bank_train_mc, cat_train_mc) # Start with the best model from SVM"
   ]
  },
  {
   "cell_type": "code",
   "execution_count": 24,
   "id": "6647bd5d",
   "metadata": {},
   "outputs": [
    {
     "data": {
      "text/html": [
       "<div>\n",
       "<style scoped>\n",
       "    .dataframe tbody tr th:only-of-type {\n",
       "        vertical-align: middle;\n",
       "    }\n",
       "\n",
       "    .dataframe tbody tr th {\n",
       "        vertical-align: top;\n",
       "    }\n",
       "\n",
       "    .dataframe thead th {\n",
       "        text-align: right;\n",
       "    }\n",
       "</style>\n",
       "<table border=\"1\" class=\"dataframe\">\n",
       "  <thead>\n",
       "    <tr style=\"text-align: right;\">\n",
       "      <th></th>\n",
       "      <th>params</th>\n",
       "      <th>rank_test_score</th>\n",
       "      <th>mean_test_score</th>\n",
       "      <th>std_test_score</th>\n",
       "    </tr>\n",
       "    <tr>\n",
       "      <th>kernel</th>\n",
       "      <th></th>\n",
       "      <th></th>\n",
       "      <th></th>\n",
       "      <th></th>\n",
       "    </tr>\n",
       "  </thead>\n",
       "  <tbody>\n",
       "    <tr>\n",
       "      <th>10</th>\n",
       "      <td>{'n_neighbors': 10}</td>\n",
       "      <td>1</td>\n",
       "      <td>0.745031</td>\n",
       "      <td>0.008527</td>\n",
       "    </tr>\n",
       "    <tr>\n",
       "      <th>100</th>\n",
       "      <td>{'n_neighbors': 100}</td>\n",
       "      <td>2</td>\n",
       "      <td>0.730844</td>\n",
       "      <td>0.004779</td>\n",
       "    </tr>\n",
       "    <tr>\n",
       "      <th>200</th>\n",
       "      <td>{'n_neighbors': 200}</td>\n",
       "      <td>3</td>\n",
       "      <td>0.700719</td>\n",
       "      <td>0.006895</td>\n",
       "    </tr>\n",
       "    <tr>\n",
       "      <th>5</th>\n",
       "      <td>{'n_neighbors': 5}</td>\n",
       "      <td>4</td>\n",
       "      <td>0.677094</td>\n",
       "      <td>0.021935</td>\n",
       "    </tr>\n",
       "  </tbody>\n",
       "</table>\n",
       "</div>"
      ],
      "text/plain": [
       "                      params  rank_test_score  mean_test_score  std_test_score\n",
       "kernel                                                                        \n",
       "10       {'n_neighbors': 10}                1         0.745031        0.008527\n",
       "100     {'n_neighbors': 100}                2         0.730844        0.004779\n",
       "200     {'n_neighbors': 200}                3         0.700719        0.006895\n",
       "5         {'n_neighbors': 5}                4         0.677094        0.021935"
      ]
     },
     "execution_count": 24,
     "metadata": {},
     "output_type": "execute_result"
    }
   ],
   "source": [
    "results_df = pd.DataFrame(k_search.cv_results_)\n",
    "results_df = results_df.sort_values(by=[\"rank_test_score\"])\n",
    "results_df = results_df.set_index(\n",
    "    results_df[\"params\"].apply(lambda x: \"_\".join(str(val) for val in x.values()))\n",
    ").rename_axis(\"kernel\")\n",
    "results_df[[\"params\", \"rank_test_score\", \"mean_test_score\", \"std_test_score\"]]"
   ]
  },
  {
   "cell_type": "markdown",
   "id": "0010f07b",
   "metadata": {},
   "source": [
    "kNN classification with 10 nearest neighbors results in the highest accuracy, at 74.5%"
   ]
  },
  {
   "cell_type": "code",
   "execution_count": 25,
   "id": "739bd503",
   "metadata": {},
   "outputs": [
    {
     "name": "stdout",
     "output_type": "stream",
     "text": [
      "0.729625\n",
      "                                           precision    recall  f1-score   support\n",
      "\n",
      "                   Communication Services       0.74      0.68      0.71        63\n",
      "                                Education       0.66      0.60      0.63        95\n",
      "                            Entertainment       0.86      0.72      0.78      2295\n",
      "                                  Finance       0.69      0.26      0.37        35\n",
      "            Health and Community Services       0.88      0.79      0.83       850\n",
      "           Property and Business Services       0.60      0.34      0.44       222\n",
      "                             Retail Trade       0.62      0.87      0.72      2619\n",
      "                    Services to Transport       0.80      0.59      0.68       463\n",
      "Trade, Professional and Personal Services       0.77      0.62      0.69      1057\n",
      "                                   Travel       0.83      0.39      0.53       301\n",
      "\n",
      "                                 accuracy                           0.73      8000\n",
      "                                macro avg       0.74      0.59      0.64      8000\n",
      "                             weighted avg       0.75      0.73      0.73      8000\n",
      "\n"
     ]
    }
   ],
   "source": [
    "k_predict = k_search.predict(bank_validation_mc)\n",
    "print(np.mean(k_predict == cat_validation_mc))\n",
    "print(metrics.classification_report(\n",
    "    cat_validation_mc, \n",
    "    k_predict, \n",
    "    target_names=cat_validation_mc.cat.categories))"
   ]
  },
  {
   "cell_type": "markdown",
   "id": "84fc271c",
   "metadata": {},
   "source": [
    "Accuracy on the validation set is 73%, with a weighted precision of 75%. Sensitivity to 'Finance' is better than the best SVM model at .26, but there is still room for improvement."
   ]
  },
  {
   "cell_type": "markdown",
   "id": "e175ee6a",
   "metadata": {},
   "source": [
    "## Multinomial Logistic Regression"
   ]
  },
  {
   "cell_type": "markdown",
   "id": "def7d254",
   "metadata": {},
   "source": [
    "We create a logistic regression to attempt increased precision."
   ]
  },
  {
   "cell_type": "code",
   "execution_count": 26,
   "id": "a6cef68d",
   "metadata": {},
   "outputs": [
    {
     "name": "stdout",
     "output_type": "stream",
     "text": [
      "0.80025\n"
     ]
    }
   ],
   "source": [
    "from sklearn.linear_model import LogisticRegression\n",
    "log_reg = LogisticRegression(solver='saga', multi_class='multinomial') # saga because the data is sparse and multinomial\n",
    "log_reg.fit(bank_train_mc, cat_train_mc)\n",
    "log_predict = log_reg.predict(bank_validation_mc)\n",
    "print(np.mean(log_predict == cat_validation_mc))"
   ]
  },
  {
   "cell_type": "markdown",
   "id": "730ef74e",
   "metadata": {},
   "source": [
    "Logistic Regression appears to have the highest accuracy, at 80.0%."
   ]
  },
  {
   "cell_type": "code",
   "execution_count": 27,
   "id": "423af1af",
   "metadata": {},
   "outputs": [
    {
     "name": "stdout",
     "output_type": "stream",
     "text": [
      "                                           precision    recall  f1-score   support\n",
      "\n",
      "                   Communication Services       0.87      0.71      0.78        63\n",
      "                                Education       0.71      0.56      0.62        95\n",
      "                            Entertainment       0.86      0.84      0.85      2295\n",
      "                                  Finance       0.60      0.09      0.15        35\n",
      "            Health and Community Services       0.92      0.85      0.89       850\n",
      "           Property and Business Services       0.72      0.62      0.67       222\n",
      "                             Retail Trade       0.71      0.87      0.78      2619\n",
      "                    Services to Transport       0.83      0.72      0.77       463\n",
      "Trade, Professional and Personal Services       0.87      0.68      0.76      1057\n",
      "                                   Travel       0.85      0.58      0.69       301\n",
      "\n",
      "                                 accuracy                           0.80      8000\n",
      "                                macro avg       0.79      0.65      0.70      8000\n",
      "                             weighted avg       0.81      0.80      0.80      8000\n",
      "\n"
     ]
    }
   ],
   "source": [
    "print(metrics.classification_report(\n",
    "    cat_validation_mc, \n",
    "    log_predict, \n",
    "    target_names=cat_validation_mc.cat.categories,\n",
    "    zero_division=0))"
   ]
  },
  {
   "cell_type": "markdown",
   "id": "83dfd2ed",
   "metadata": {},
   "source": [
    "Precision is also the highest, with a weighted average of 81%. Recall for finance is very low, at .09."
   ]
  },
  {
   "cell_type": "markdown",
   "id": "35f05dec",
   "metadata": {},
   "source": [
    "## Stacking of SVM, kNN, and Logit Models with Perceptron"
   ]
  },
  {
   "cell_type": "markdown",
   "id": "03cece36",
   "metadata": {},
   "source": [
    "We combine the three best models with a perceptron to attempt higher precision and better recall."
   ]
  },
  {
   "cell_type": "code",
   "execution_count": 28,
   "id": "ac5b7494",
   "metadata": {},
   "outputs": [
    {
     "data": {
      "text/plain": [
       "StackingClassifier(estimators=[('svm_final',\n",
       "                                SGDClassifier(alpha=0.001, max_iter=5,\n",
       "                                              random_state=42, tol=None)),\n",
       "                               ('knn',\n",
       "                                KNeighborsClassifier(algorithm='brute',\n",
       "                                                     n_neighbors=10)),\n",
       "                               ('logit',\n",
       "                                LogisticRegression(multi_class='multinomial',\n",
       "                                                   solver='saga'))],\n",
       "                   final_estimator=Perceptron())"
      ]
     },
     "execution_count": 28,
     "metadata": {},
     "output_type": "execute_result"
    }
   ],
   "source": [
    "from sklearn.linear_model import Perceptron\n",
    "from sklearn.ensemble import StackingClassifier\n",
    "stack_estimators = [\n",
    "    ('svm_final', SGDClassifier(loss='hinge', penalty='l2',\n",
    "                          alpha=1e-3, random_state=42,\n",
    "                          max_iter=5, tol=None)),\n",
    "    ('knn', KNeighborsClassifier(n_neighbors = 10, algorithm = 'brute')),\n",
    "    ('logit', LogisticRegression(solver='saga', multi_class='multinomial'))\n",
    "]\n",
    "\n",
    "stack_clf = StackingClassifier(estimators = stack_estimators, final_estimator=Perceptron())\n",
    "stack_clf.fit(bank_train_mc, cat_train_mc) # Sparse features from merchant code and coalesced brand"
   ]
  },
  {
   "cell_type": "code",
   "execution_count": 29,
   "id": "d4b6631a",
   "metadata": {},
   "outputs": [
    {
     "name": "stdout",
     "output_type": "stream",
     "text": [
      "0.790625\n",
      "                                           precision    recall  f1-score   support\n",
      "\n",
      "                   Communication Services       0.86      0.68      0.76        63\n",
      "                                Education       0.79      0.35      0.48        95\n",
      "                            Entertainment       0.91      0.78      0.84      2295\n",
      "                                  Finance       0.72      0.37      0.49        35\n",
      "            Health and Community Services       0.88      0.88      0.88       850\n",
      "           Property and Business Services       0.83      0.51      0.64       222\n",
      "                             Retail Trade       0.68      0.90      0.77      2619\n",
      "                    Services to Transport       0.92      0.57      0.70       463\n",
      "Trade, Professional and Personal Services       0.83      0.72      0.77      1057\n",
      "                                   Travel       0.85      0.63      0.72       301\n",
      "\n",
      "                                 accuracy                           0.79      8000\n",
      "                                macro avg       0.83      0.64      0.71      8000\n",
      "                             weighted avg       0.81      0.79      0.79      8000\n",
      "\n"
     ]
    }
   ],
   "source": [
    "stack_prediction = stack_clf.predict(bank_validation_mc)\n",
    "print(np.mean(stack_prediction == cat_validation_mc))\n",
    "print(metrics.classification_report(\n",
    "    cat_validation_mc, \n",
    "    stack_prediction, \n",
    "    target_names=cat_validation_mc.cat.categories,\n",
    "    zero_division=0))"
   ]
  },
  {
   "cell_type": "markdown",
   "id": "3d8d1d4c",
   "metadata": {},
   "source": [
    "With the stacked model, accuracy is reduced compared to the logistic model, with the approximate precision of 81%. It has a better spread of f1-scores for the categories, however, with a low of .43 compared to .15 for logistic regression, .37 for kNN, and .33 for SVM. This is a better model because it is more robust to possible class imbalance, particularly with higher precision in 'Retail Trade' and higher sensitivity in 'Finance'."
   ]
  },
  {
   "cell_type": "markdown",
   "id": "69a02554",
   "metadata": {},
   "source": [
    "## Make predictions on Holdout Set"
   ]
  },
  {
   "cell_type": "code",
   "execution_count": 30,
   "id": "ae8c692f",
   "metadata": {},
   "outputs": [],
   "source": [
    "# Load Test Data\n",
    "test = pd.read_excel('dbb4c4ff1f31-CAC+2022_Test+Data+Set+New.xlsx')\n",
    "# Preprocess Test Data\n",
    "for k in ('sor', 'db_cr_cd', 'is_international', 'Category'):\n",
    "    test[k] = test[k].astype('category')\n",
    "del test['payment_reporting_category'] # single value categorical variable\n",
    "del test['default_brand'] # Redundant\n",
    "del test['qrated_brand'] # Redundant\n",
    "test['coalesced_brand'] = test['coalesced_brand'].astype('string')\n",
    "brand_test_counts = tfidf_vect.transform(test['coalesced_brand'])\n",
    "test_brand_sparse = pd.DataFrame.sparse.from_spmatrix(brand_test_counts, columns=tfidf_vect.get_feature_names_out())\n",
    "test_cat_codes = test['merchant_cat_code'].astype('category')\n",
    "test_cat_codes = pd.DataFrame.sparse.from_spmatrix(\n",
    "    enc_mc.transform(\n",
    "        test_cat_codes.array.reshape(-1,1)), \n",
    "    columns = enc_mc.get_feature_names_out())\n",
    "test_df = pd.concat([test_cat_codes, test_brand_sparse], axis = 1)\n",
    "# Make predictions on test data\n",
    "test_prediction = stack_clf.predict(test_df)"
   ]
  },
  {
   "cell_type": "code",
   "execution_count": 31,
   "id": "01534e87",
   "metadata": {},
   "outputs": [],
   "source": [
    "# Write predictions to .csv file\n",
    "test_pred_df = pd.DataFrame(test_prediction, columns=['Predicted Category'])\n",
    "test_pred_df.to_csv('predictions.csv')"
   ]
  },
  {
   "cell_type": "code",
   "execution_count": 32,
   "id": "659964d1",
   "metadata": {},
   "outputs": [],
   "source": [
    "test_original = pd.read_excel('dbb4c4ff1f31-CAC+2022_Test+Data+Set+New.xlsx')\n",
    "test_original['Category'] = test_pred_df\n",
    "test_original.to_csv('CAC_2022_Test_Data_Set_with_Categories_Identified.csv', index = False)"
   ]
  }
 ],
 "metadata": {
  "kernelspec": {
   "display_name": "Python 3 (ipykernel)",
   "language": "python",
   "name": "python3"
  },
  "language_info": {
   "codemirror_mode": {
    "name": "ipython",
    "version": 3
   },
   "file_extension": ".py",
   "mimetype": "text/x-python",
   "name": "python",
   "nbconvert_exporter": "python",
   "pygments_lexer": "ipython3",
   "version": "3.8.8"
  }
 },
 "nbformat": 4,
 "nbformat_minor": 5
}
